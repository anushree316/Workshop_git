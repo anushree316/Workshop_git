{
 "cells": [
  {
   "cell_type": "code",
   "execution_count": null,
   "metadata": {
    "collapsed": true
   },
   "outputs": [],
   "source": [
    "a=input(\"enter your  name:\")"
   ]
  },
  {
   "cell_type": "code",
   "execution_count": 4,
   "metadata": {},
   "outputs": [
    {
     "ename": "SyntaxError",
     "evalue": "invalid syntax (<ipython-input-4-4af459712672>, line 8)",
     "output_type": "error",
     "traceback": [
      "\u001b[1;36m  File \u001b[1;32m\"<ipython-input-4-4af459712672>\"\u001b[1;36m, line \u001b[1;32m8\u001b[0m\n\u001b[1;33m    elif:\u001b[0m\n\u001b[1;37m        ^\u001b[0m\n\u001b[1;31mSyntaxError\u001b[0m\u001b[1;31m:\u001b[0m invalid syntax\n"
     ]
    }
   ],
   "source": [
    "a=\"Hi\"\n",
    "b=True\n",
    "c=20\n",
    "d=none\n",
    "a=input(\"enter a number:\")\n",
    "if(a==5):\n",
    "    print(\"yes\")\n",
    "elif:\n",
    "    print(\"no\")\n",
    "    "
   ]
  },
  {
   "cell_type": "code",
   "execution_count": 2,
   "metadata": {},
   "outputs": [
    {
     "name": "stdout",
     "output_type": "stream",
     "text": [
      "enter the first number1\n",
      "enter the second number2\n",
      "enter the operator+\n",
      "Addition of a and b 3\n"
     ]
    }
   ],
   "source": [
    "a=int(input(\"enter the first number\"))\n",
    "b=int(input(\"enter the second number\"))\n",
    "c=input(\"enter the operator\")\n",
    "if c=='+':\n",
    "    print(\"Addition of a and b\",a+b)\n",
    "elif c=='-':\n",
    "    print(\"Subtraction of a and b\",a-b)\n",
    "elif c=='*':\n",
    "    print(\"multiplication of a and b\",a*b)\n",
    "elif c=='/':\n",
    "    print(\"division of a and b\",a/b)\n",
    "elif c=='%':\n",
    "    print(\"modulus of a and b\",a%b)\n",
    "else:\n",
    "    print(\"invalid choice\")\n",
    "    \n",
    "    \n",
    "    \n",
    "\n"
   ]
  },
  {
   "cell_type": "code",
   "execution_count": 1,
   "metadata": {},
   "outputs": [
    {
     "name": "stdout",
     "output_type": "stream",
     "text": [
      "Subtraction of 10 and 5 is 5\n"
     ]
    }
   ],
   "source": [
    "a=10\n",
    "b=5\n",
    "print(f\"Subtraction of {a} and {b} is {a-b}\")"
   ]
  },
  {
   "cell_type": "code",
   "execution_count": null,
   "metadata": {
    "collapsed": true
   },
   "outputs": [],
   "source": []
  },
  {
   "cell_type": "code",
   "execution_count": null,
   "metadata": {
    "collapsed": true
   },
   "outputs": [],
   "source": []
  },
  {
   "cell_type": "code",
   "execution_count": null,
   "metadata": {
    "collapsed": true
   },
   "outputs": [],
   "source": []
  }
 ],
 "metadata": {
  "kernelspec": {
   "display_name": "Python 3",
   "language": "python",
   "name": "python3"
  },
  "language_info": {
   "codemirror_mode": {
    "name": "ipython",
    "version": 3
   },
   "file_extension": ".py",
   "mimetype": "text/x-python",
   "name": "python",
   "nbconvert_exporter": "python",
   "pygments_lexer": "ipython3",
   "version": "3.6.3"
  }
 },
 "nbformat": 4,
 "nbformat_minor": 2
}
